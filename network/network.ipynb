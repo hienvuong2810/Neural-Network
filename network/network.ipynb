{
 "cells": [
  {
   "cell_type": "code",
   "execution_count": 1,
   "metadata": {},
   "outputs": [],
   "source": [
    "class Network:\n",
    "    def __init__(self):\n",
    "        self.layers = []\n",
    "        self.loss = None\n",
    "        self.loss_prime = None\n",
    "        \n",
    "    def add(self,layer):\n",
    "        pass\n",
    "    def setup_loss(self,loss,loss_prime):\n",
    "        self.loss = loss\n",
    "        self.loss_prime = loss_prime\n",
    "    def predict (self, input):\n",
    "        result = []\n",
    "        n = len(input)\n",
    "        for i in range (n):\n",
    "            output = input[i]\n",
    "            for layer in self.layers:\n",
    "                output = layer.forward_propagation(output)\n",
    "        result.append(output)\n",
    "    def fit(self, x_train, y,learning_rate,epochs):\n",
    "        n = len(x_train)\n",
    "        for i in range(epochs):\n",
    "            err = 0\n",
    "            for j in range(n):\n",
    "                output = x_train[j]\n",
    "                for layer in self.layers:\n",
    "                    output = layer.forward_propagation(output)\n",
    "                    \n",
    "                err += self.loss(y_train[j], output)\n",
    "                 \n",
    "                error = self.loss_prime(y_train[j], output)\n",
    "                for layer in reversed (self.layers):\n",
    "                    error  = layer.backward.propagation(error, learning_rate)\n",
    "            err = err / n\n",
    "            \n",
    "            print('epochs: %d, err = %d'%(i,err))\n",
    "                    "
   ]
  },
  {
   "cell_type": "code",
   "execution_count": null,
   "metadata": {},
   "outputs": [],
   "source": []
  }
 ],
 "metadata": {
  "kernelspec": {
   "display_name": "Python 3",
   "language": "python",
   "name": "python3"
  },
  "language_info": {
   "codemirror_mode": {
    "name": "ipython",
    "version": 3
   },
   "file_extension": ".py",
   "mimetype": "text/x-python",
   "name": "python",
   "nbconvert_exporter": "python",
   "pygments_lexer": "ipython3",
   "version": "3.7.3"
  }
 },
 "nbformat": 4,
 "nbformat_minor": 2
}
